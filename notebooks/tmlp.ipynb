{
 "cells": [
  {
   "cell_type": "code",
   "execution_count": 1,
   "metadata": {
    "collapsed": true,
    "pycharm": {
     "name": "#%%\n"
    }
   },
   "outputs": [],
   "source": [
    "import pandas as pd"
   ]
  },
  {
   "cell_type": "code",
   "execution_count": 3,
   "outputs": [],
   "source": [
    "df = pd.read_parquet('../data/player_overview.parquet', engine='pyarrow')"
   ],
   "metadata": {
    "collapsed": false,
    "pycharm": {
     "name": "#%%\n"
    }
   }
  },
  {
   "cell_type": "code",
   "execution_count": 6,
   "outputs": [],
   "source": [
    "df.to_parquet('../data/player_overview.parquet', engine='pyarrow')"
   ],
   "metadata": {
    "collapsed": false,
    "pycharm": {
     "name": "#%%\n"
    }
   }
  },
  {
   "cell_type": "code",
   "execution_count": 4,
   "outputs": [
    {
     "data": {
      "text/plain": "      date_start    date_end player_name player_country  \\\n0     2016-01-01  2016-01-31    GuardiaN       Slovakia   \n1     2016-01-01  2016-01-31    coldzera         Brazil   \n2     2016-01-01  2016-01-31      Furlan         Poland   \n3     2016-01-01  2016-01-31      flamie         Russia   \n4     2016-01-01  2016-01-31    Kjaerbye        Denmark   \n...          ...         ...         ...            ...   \n3478  2022-08-01  2022-08-31     Plopski         Sweden   \n3479  2022-08-01  2022-08-31    hallzerk         Norway   \n3480  2022-08-01  2022-08-31       nitr0  United States   \n3481  2022-08-01  2022-08-31        apEX         France   \n3482  2022-08-01  2022-08-31          JT   South Africa   \n\n                                            player_link          team_name  \\\n0     https://www.hltv.org/stats/players/2757/guardi...      Natus Vincere   \n1     https://www.hltv.org/stats/players/9216/coldze...         Luminosity   \n2     https://www.hltv.org/stats/players/8327/furlan...              Vexed   \n3     https://www.hltv.org/stats/players/7594/flamie...      Natus Vincere   \n4     https://www.hltv.org/stats/players/8394/kjaerb...           Dignitas   \n...                                                 ...                ...   \n3478  https://www.hltv.org/stats/players/14218/plops...  Ninjas in Pyjamas   \n3479  https://www.hltv.org/stats/players/12840/hallz...         Complexity   \n3480  https://www.hltv.org/stats/players/7687/nitr0?...             Liquid   \n3481  https://www.hltv.org/stats/players/7322/apex?s...           Vitality   \n3482  https://www.hltv.org/stats/players/11630/jt?st...         Complexity   \n\n                                              team_link  map_number  rounds  \\\n0     /stats/teams/4608/natus-vincere?startDate=2016...          19     500   \n1     /stats/teams/6290/luminosity?startDate=2016-01...          17     444   \n2     /stats/teams/6375/vexed?startDate=2016-01-01&e...          15     417   \n3     /stats/teams/4608/natus-vincere?startDate=2016...          19     500   \n4     /stats/teams/5422/dignitas?startDate=2016-01-0...          22     576   \n...                                                 ...         ...     ...   \n3478  /stats/teams/4411/ninjas-in-pyjamas?startDate=...           3      79   \n3479  /stats/teams/5005/complexity?startDate=2022-08...           3      74   \n3480  /stats/teams/5973/liquid?startDate=2022-08-01&...           3      78   \n3481  /stats/teams/9565/vitality?startDate=2022-08-0...           3      91   \n3482  /stats/teams/5005/complexity?startDate=2022-08...           3      74   \n\n      kd_diff    kd  rating  \n0         107  1.37    1.22  \n1          76  1.27    1.16  \n2          48  1.17    1.15  \n3          66  1.21    1.15  \n4          87  1.23    1.15  \n...       ...   ...     ...  \n3478        1  0.79    0.84  \n3479        1  0.75    0.84  \n3480        1  0.70    0.83  \n3481        1  0.60    0.83  \n3482        1  0.67    0.81  \n\n[3483 rows x 12 columns]",
      "text/html": "<div>\n<style scoped>\n    .dataframe tbody tr th:only-of-type {\n        vertical-align: middle;\n    }\n\n    .dataframe tbody tr th {\n        vertical-align: top;\n    }\n\n    .dataframe thead th {\n        text-align: right;\n    }\n</style>\n<table border=\"1\" class=\"dataframe\">\n  <thead>\n    <tr style=\"text-align: right;\">\n      <th></th>\n      <th>date_start</th>\n      <th>date_end</th>\n      <th>player_name</th>\n      <th>player_country</th>\n      <th>player_link</th>\n      <th>team_name</th>\n      <th>team_link</th>\n      <th>map_number</th>\n      <th>rounds</th>\n      <th>kd_diff</th>\n      <th>kd</th>\n      <th>rating</th>\n    </tr>\n  </thead>\n  <tbody>\n    <tr>\n      <th>0</th>\n      <td>2016-01-01</td>\n      <td>2016-01-31</td>\n      <td>GuardiaN</td>\n      <td>Slovakia</td>\n      <td>https://www.hltv.org/stats/players/2757/guardi...</td>\n      <td>Natus Vincere</td>\n      <td>/stats/teams/4608/natus-vincere?startDate=2016...</td>\n      <td>19</td>\n      <td>500</td>\n      <td>107</td>\n      <td>1.37</td>\n      <td>1.22</td>\n    </tr>\n    <tr>\n      <th>1</th>\n      <td>2016-01-01</td>\n      <td>2016-01-31</td>\n      <td>coldzera</td>\n      <td>Brazil</td>\n      <td>https://www.hltv.org/stats/players/9216/coldze...</td>\n      <td>Luminosity</td>\n      <td>/stats/teams/6290/luminosity?startDate=2016-01...</td>\n      <td>17</td>\n      <td>444</td>\n      <td>76</td>\n      <td>1.27</td>\n      <td>1.16</td>\n    </tr>\n    <tr>\n      <th>2</th>\n      <td>2016-01-01</td>\n      <td>2016-01-31</td>\n      <td>Furlan</td>\n      <td>Poland</td>\n      <td>https://www.hltv.org/stats/players/8327/furlan...</td>\n      <td>Vexed</td>\n      <td>/stats/teams/6375/vexed?startDate=2016-01-01&amp;e...</td>\n      <td>15</td>\n      <td>417</td>\n      <td>48</td>\n      <td>1.17</td>\n      <td>1.15</td>\n    </tr>\n    <tr>\n      <th>3</th>\n      <td>2016-01-01</td>\n      <td>2016-01-31</td>\n      <td>flamie</td>\n      <td>Russia</td>\n      <td>https://www.hltv.org/stats/players/7594/flamie...</td>\n      <td>Natus Vincere</td>\n      <td>/stats/teams/4608/natus-vincere?startDate=2016...</td>\n      <td>19</td>\n      <td>500</td>\n      <td>66</td>\n      <td>1.21</td>\n      <td>1.15</td>\n    </tr>\n    <tr>\n      <th>4</th>\n      <td>2016-01-01</td>\n      <td>2016-01-31</td>\n      <td>Kjaerbye</td>\n      <td>Denmark</td>\n      <td>https://www.hltv.org/stats/players/8394/kjaerb...</td>\n      <td>Dignitas</td>\n      <td>/stats/teams/5422/dignitas?startDate=2016-01-0...</td>\n      <td>22</td>\n      <td>576</td>\n      <td>87</td>\n      <td>1.23</td>\n      <td>1.15</td>\n    </tr>\n    <tr>\n      <th>...</th>\n      <td>...</td>\n      <td>...</td>\n      <td>...</td>\n      <td>...</td>\n      <td>...</td>\n      <td>...</td>\n      <td>...</td>\n      <td>...</td>\n      <td>...</td>\n      <td>...</td>\n      <td>...</td>\n      <td>...</td>\n    </tr>\n    <tr>\n      <th>3478</th>\n      <td>2022-08-01</td>\n      <td>2022-08-31</td>\n      <td>Plopski</td>\n      <td>Sweden</td>\n      <td>https://www.hltv.org/stats/players/14218/plops...</td>\n      <td>Ninjas in Pyjamas</td>\n      <td>/stats/teams/4411/ninjas-in-pyjamas?startDate=...</td>\n      <td>3</td>\n      <td>79</td>\n      <td>1</td>\n      <td>0.79</td>\n      <td>0.84</td>\n    </tr>\n    <tr>\n      <th>3479</th>\n      <td>2022-08-01</td>\n      <td>2022-08-31</td>\n      <td>hallzerk</td>\n      <td>Norway</td>\n      <td>https://www.hltv.org/stats/players/12840/hallz...</td>\n      <td>Complexity</td>\n      <td>/stats/teams/5005/complexity?startDate=2022-08...</td>\n      <td>3</td>\n      <td>74</td>\n      <td>1</td>\n      <td>0.75</td>\n      <td>0.84</td>\n    </tr>\n    <tr>\n      <th>3480</th>\n      <td>2022-08-01</td>\n      <td>2022-08-31</td>\n      <td>nitr0</td>\n      <td>United States</td>\n      <td>https://www.hltv.org/stats/players/7687/nitr0?...</td>\n      <td>Liquid</td>\n      <td>/stats/teams/5973/liquid?startDate=2022-08-01&amp;...</td>\n      <td>3</td>\n      <td>78</td>\n      <td>1</td>\n      <td>0.70</td>\n      <td>0.83</td>\n    </tr>\n    <tr>\n      <th>3481</th>\n      <td>2022-08-01</td>\n      <td>2022-08-31</td>\n      <td>apEX</td>\n      <td>France</td>\n      <td>https://www.hltv.org/stats/players/7322/apex?s...</td>\n      <td>Vitality</td>\n      <td>/stats/teams/9565/vitality?startDate=2022-08-0...</td>\n      <td>3</td>\n      <td>91</td>\n      <td>1</td>\n      <td>0.60</td>\n      <td>0.83</td>\n    </tr>\n    <tr>\n      <th>3482</th>\n      <td>2022-08-01</td>\n      <td>2022-08-31</td>\n      <td>JT</td>\n      <td>South Africa</td>\n      <td>https://www.hltv.org/stats/players/11630/jt?st...</td>\n      <td>Complexity</td>\n      <td>/stats/teams/5005/complexity?startDate=2022-08...</td>\n      <td>3</td>\n      <td>74</td>\n      <td>1</td>\n      <td>0.67</td>\n      <td>0.81</td>\n    </tr>\n  </tbody>\n</table>\n<p>3483 rows × 12 columns</p>\n</div>"
     },
     "execution_count": 4,
     "metadata": {},
     "output_type": "execute_result"
    }
   ],
   "source": [
    "df"
   ],
   "metadata": {
    "collapsed": false,
    "pycharm": {
     "name": "#%%\n"
    }
   }
  },
  {
   "cell_type": "code",
   "execution_count": null,
   "outputs": [],
   "source": [],
   "metadata": {
    "collapsed": false,
    "pycharm": {
     "name": "#%%\n"
    }
   }
  }
 ],
 "metadata": {
  "kernelspec": {
   "display_name": "Python 3",
   "language": "python",
   "name": "python3"
  },
  "language_info": {
   "codemirror_mode": {
    "name": "ipython",
    "version": 2
   },
   "file_extension": ".py",
   "mimetype": "text/x-python",
   "name": "python",
   "nbconvert_exporter": "python",
   "pygments_lexer": "ipython2",
   "version": "2.7.6"
  }
 },
 "nbformat": 4,
 "nbformat_minor": 0
}