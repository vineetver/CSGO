{
 "cells": [
  {
   "cell_type": "code",
   "execution_count": 12,
   "metadata": {
    "collapsed": true,
    "pycharm": {
     "name": "#%%\n"
    }
   },
   "outputs": [],
   "source": [
    "import pandas as pd\n",
    "from bs4 import BeautifulSoup\n",
    "import re\n",
    "import requests"
   ]
  },
  {
   "cell_type": "code",
   "execution_count": 13,
   "outputs": [],
   "source": [
    "def get_monday(start_year: str, end_year: str) -> list:\n",
    "    \"\"\"\n",
    "    This function returns a list of monday dates between the start_year and end_year. Since HLTV team rankings are updated\n",
    "    every week on monday. The first ever recorded ranking is on 2015-10-26.\n",
    "    :param start_year: start year of the dataset\n",
    "    :param end_year: end year of the dataset\n",
    "    :return: list of monday dates\n",
    "    \"\"\"\n",
    "    dates = pd.date_range(start=start_year, end=end_year, freq='W-MON').tolist()\n",
    "    monday_dates = []\n",
    "    for monday in dates:\n",
    "        if pd.to_datetime(pd.Timestamp(year=2015, month=10, day=26)) <= monday < pd.to_datetime(pd.Timestamp.now()):\n",
    "            monday_dates.append(monday)\n",
    "        else:\n",
    "            continue\n",
    "    return monday_dates\n",
    "\n",
    "\n",
    "def get_team_ranking(monday_dates: list):\n",
    "        soup = BeautifulSoup(page.content, 'html.parser')\n",
    "        team_list = soup.findAll(\"div\", class_=\"ranked-team standard-box\")\n",
    "        pattern = re.compile(\"\\#(\\d+)\")\n",
    "        res = []\n",
    "        for team in team_list:\n",
    "            rank = pattern.match(\n",
    "                team.find(\"span\", class_=\"position\").text).groups(1)[0]\n",
    "            name = team.find(\"span\", class_=\"name\").text\n",
    "            players = team.findAll(\"div\", class_=\"playerNicknames\")\n",
    "            playernames = [player.text for player in players]\n",
    "            print(name, playernames)"
   ],
   "metadata": {
    "collapsed": false,
    "pycharm": {
     "name": "#%%\n"
    }
   }
  },
  {
   "cell_type": "code",
   "execution_count": 14,
   "outputs": [],
   "source": [
    "mondays = get_monday(start_year='2015', end_year='2023')"
   ],
   "metadata": {
    "collapsed": false,
    "pycharm": {
     "name": "#%%\n"
    }
   }
  },
  {
   "cell_type": "code",
   "execution_count": 15,
   "outputs": [
    {
     "data": {
      "text/plain": "[Timestamp('2015-10-26 00:00:00', freq='W-MON'),\n Timestamp('2015-11-02 00:00:00', freq='W-MON'),\n Timestamp('2015-11-09 00:00:00', freq='W-MON'),\n Timestamp('2015-11-16 00:00:00', freq='W-MON'),\n Timestamp('2015-11-23 00:00:00', freq='W-MON'),\n Timestamp('2015-11-30 00:00:00', freq='W-MON'),\n Timestamp('2015-12-07 00:00:00', freq='W-MON'),\n Timestamp('2015-12-14 00:00:00', freq='W-MON'),\n Timestamp('2015-12-21 00:00:00', freq='W-MON'),\n Timestamp('2015-12-28 00:00:00', freq='W-MON'),\n Timestamp('2016-01-04 00:00:00', freq='W-MON'),\n Timestamp('2016-01-11 00:00:00', freq='W-MON'),\n Timestamp('2016-01-18 00:00:00', freq='W-MON'),\n Timestamp('2016-01-25 00:00:00', freq='W-MON'),\n Timestamp('2016-02-01 00:00:00', freq='W-MON'),\n Timestamp('2016-02-08 00:00:00', freq='W-MON'),\n Timestamp('2016-02-15 00:00:00', freq='W-MON'),\n Timestamp('2016-02-22 00:00:00', freq='W-MON'),\n Timestamp('2016-02-29 00:00:00', freq='W-MON'),\n Timestamp('2016-03-07 00:00:00', freq='W-MON'),\n Timestamp('2016-03-14 00:00:00', freq='W-MON'),\n Timestamp('2016-03-21 00:00:00', freq='W-MON'),\n Timestamp('2016-03-28 00:00:00', freq='W-MON'),\n Timestamp('2016-04-04 00:00:00', freq='W-MON'),\n Timestamp('2016-04-11 00:00:00', freq='W-MON'),\n Timestamp('2016-04-18 00:00:00', freq='W-MON'),\n Timestamp('2016-04-25 00:00:00', freq='W-MON'),\n Timestamp('2016-05-02 00:00:00', freq='W-MON'),\n Timestamp('2016-05-09 00:00:00', freq='W-MON'),\n Timestamp('2016-05-16 00:00:00', freq='W-MON'),\n Timestamp('2016-05-23 00:00:00', freq='W-MON'),\n Timestamp('2016-05-30 00:00:00', freq='W-MON'),\n Timestamp('2016-06-06 00:00:00', freq='W-MON'),\n Timestamp('2016-06-13 00:00:00', freq='W-MON'),\n Timestamp('2016-06-20 00:00:00', freq='W-MON'),\n Timestamp('2016-06-27 00:00:00', freq='W-MON'),\n Timestamp('2016-07-04 00:00:00', freq='W-MON'),\n Timestamp('2016-07-11 00:00:00', freq='W-MON'),\n Timestamp('2016-07-18 00:00:00', freq='W-MON'),\n Timestamp('2016-07-25 00:00:00', freq='W-MON'),\n Timestamp('2016-08-01 00:00:00', freq='W-MON'),\n Timestamp('2016-08-08 00:00:00', freq='W-MON'),\n Timestamp('2016-08-15 00:00:00', freq='W-MON'),\n Timestamp('2016-08-22 00:00:00', freq='W-MON'),\n Timestamp('2016-08-29 00:00:00', freq='W-MON'),\n Timestamp('2016-09-05 00:00:00', freq='W-MON'),\n Timestamp('2016-09-12 00:00:00', freq='W-MON'),\n Timestamp('2016-09-19 00:00:00', freq='W-MON'),\n Timestamp('2016-09-26 00:00:00', freq='W-MON'),\n Timestamp('2016-10-03 00:00:00', freq='W-MON'),\n Timestamp('2016-10-10 00:00:00', freq='W-MON'),\n Timestamp('2016-10-17 00:00:00', freq='W-MON'),\n Timestamp('2016-10-24 00:00:00', freq='W-MON'),\n Timestamp('2016-10-31 00:00:00', freq='W-MON'),\n Timestamp('2016-11-07 00:00:00', freq='W-MON'),\n Timestamp('2016-11-14 00:00:00', freq='W-MON'),\n Timestamp('2016-11-21 00:00:00', freq='W-MON'),\n Timestamp('2016-11-28 00:00:00', freq='W-MON'),\n Timestamp('2016-12-05 00:00:00', freq='W-MON'),\n Timestamp('2016-12-12 00:00:00', freq='W-MON'),\n Timestamp('2016-12-19 00:00:00', freq='W-MON'),\n Timestamp('2016-12-26 00:00:00', freq='W-MON'),\n Timestamp('2017-01-02 00:00:00', freq='W-MON'),\n Timestamp('2017-01-09 00:00:00', freq='W-MON'),\n Timestamp('2017-01-16 00:00:00', freq='W-MON'),\n Timestamp('2017-01-23 00:00:00', freq='W-MON'),\n Timestamp('2017-01-30 00:00:00', freq='W-MON'),\n Timestamp('2017-02-06 00:00:00', freq='W-MON'),\n Timestamp('2017-02-13 00:00:00', freq='W-MON'),\n Timestamp('2017-02-20 00:00:00', freq='W-MON'),\n Timestamp('2017-02-27 00:00:00', freq='W-MON'),\n Timestamp('2017-03-06 00:00:00', freq='W-MON'),\n Timestamp('2017-03-13 00:00:00', freq='W-MON'),\n Timestamp('2017-03-20 00:00:00', freq='W-MON'),\n Timestamp('2017-03-27 00:00:00', freq='W-MON'),\n Timestamp('2017-04-03 00:00:00', freq='W-MON'),\n Timestamp('2017-04-10 00:00:00', freq='W-MON'),\n Timestamp('2017-04-17 00:00:00', freq='W-MON'),\n Timestamp('2017-04-24 00:00:00', freq='W-MON'),\n Timestamp('2017-05-01 00:00:00', freq='W-MON'),\n Timestamp('2017-05-08 00:00:00', freq='W-MON'),\n Timestamp('2017-05-15 00:00:00', freq='W-MON'),\n Timestamp('2017-05-22 00:00:00', freq='W-MON'),\n Timestamp('2017-05-29 00:00:00', freq='W-MON'),\n Timestamp('2017-06-05 00:00:00', freq='W-MON'),\n Timestamp('2017-06-12 00:00:00', freq='W-MON'),\n Timestamp('2017-06-19 00:00:00', freq='W-MON'),\n Timestamp('2017-06-26 00:00:00', freq='W-MON'),\n Timestamp('2017-07-03 00:00:00', freq='W-MON'),\n Timestamp('2017-07-10 00:00:00', freq='W-MON'),\n Timestamp('2017-07-17 00:00:00', freq='W-MON'),\n Timestamp('2017-07-24 00:00:00', freq='W-MON'),\n Timestamp('2017-07-31 00:00:00', freq='W-MON'),\n Timestamp('2017-08-07 00:00:00', freq='W-MON'),\n Timestamp('2017-08-14 00:00:00', freq='W-MON'),\n Timestamp('2017-08-21 00:00:00', freq='W-MON'),\n Timestamp('2017-08-28 00:00:00', freq='W-MON'),\n Timestamp('2017-09-04 00:00:00', freq='W-MON'),\n Timestamp('2017-09-11 00:00:00', freq='W-MON'),\n Timestamp('2017-09-18 00:00:00', freq='W-MON'),\n Timestamp('2017-09-25 00:00:00', freq='W-MON'),\n Timestamp('2017-10-02 00:00:00', freq='W-MON'),\n Timestamp('2017-10-09 00:00:00', freq='W-MON'),\n Timestamp('2017-10-16 00:00:00', freq='W-MON'),\n Timestamp('2017-10-23 00:00:00', freq='W-MON'),\n Timestamp('2017-10-30 00:00:00', freq='W-MON'),\n Timestamp('2017-11-06 00:00:00', freq='W-MON'),\n Timestamp('2017-11-13 00:00:00', freq='W-MON'),\n Timestamp('2017-11-20 00:00:00', freq='W-MON'),\n Timestamp('2017-11-27 00:00:00', freq='W-MON'),\n Timestamp('2017-12-04 00:00:00', freq='W-MON'),\n Timestamp('2017-12-11 00:00:00', freq='W-MON'),\n Timestamp('2017-12-18 00:00:00', freq='W-MON'),\n Timestamp('2017-12-25 00:00:00', freq='W-MON'),\n Timestamp('2018-01-01 00:00:00', freq='W-MON'),\n Timestamp('2018-01-08 00:00:00', freq='W-MON'),\n Timestamp('2018-01-15 00:00:00', freq='W-MON'),\n Timestamp('2018-01-22 00:00:00', freq='W-MON'),\n Timestamp('2018-01-29 00:00:00', freq='W-MON'),\n Timestamp('2018-02-05 00:00:00', freq='W-MON'),\n Timestamp('2018-02-12 00:00:00', freq='W-MON'),\n Timestamp('2018-02-19 00:00:00', freq='W-MON'),\n Timestamp('2018-02-26 00:00:00', freq='W-MON'),\n Timestamp('2018-03-05 00:00:00', freq='W-MON'),\n Timestamp('2018-03-12 00:00:00', freq='W-MON'),\n Timestamp('2018-03-19 00:00:00', freq='W-MON'),\n Timestamp('2018-03-26 00:00:00', freq='W-MON'),\n Timestamp('2018-04-02 00:00:00', freq='W-MON'),\n Timestamp('2018-04-09 00:00:00', freq='W-MON'),\n Timestamp('2018-04-16 00:00:00', freq='W-MON'),\n Timestamp('2018-04-23 00:00:00', freq='W-MON'),\n Timestamp('2018-04-30 00:00:00', freq='W-MON'),\n Timestamp('2018-05-07 00:00:00', freq='W-MON'),\n Timestamp('2018-05-14 00:00:00', freq='W-MON'),\n Timestamp('2018-05-21 00:00:00', freq='W-MON'),\n Timestamp('2018-05-28 00:00:00', freq='W-MON'),\n Timestamp('2018-06-04 00:00:00', freq='W-MON'),\n Timestamp('2018-06-11 00:00:00', freq='W-MON'),\n Timestamp('2018-06-18 00:00:00', freq='W-MON'),\n Timestamp('2018-06-25 00:00:00', freq='W-MON'),\n Timestamp('2018-07-02 00:00:00', freq='W-MON'),\n Timestamp('2018-07-09 00:00:00', freq='W-MON'),\n Timestamp('2018-07-16 00:00:00', freq='W-MON'),\n Timestamp('2018-07-23 00:00:00', freq='W-MON'),\n Timestamp('2018-07-30 00:00:00', freq='W-MON'),\n Timestamp('2018-08-06 00:00:00', freq='W-MON'),\n Timestamp('2018-08-13 00:00:00', freq='W-MON'),\n Timestamp('2018-08-20 00:00:00', freq='W-MON'),\n Timestamp('2018-08-27 00:00:00', freq='W-MON'),\n Timestamp('2018-09-03 00:00:00', freq='W-MON'),\n Timestamp('2018-09-10 00:00:00', freq='W-MON'),\n Timestamp('2018-09-17 00:00:00', freq='W-MON'),\n Timestamp('2018-09-24 00:00:00', freq='W-MON'),\n Timestamp('2018-10-01 00:00:00', freq='W-MON'),\n Timestamp('2018-10-08 00:00:00', freq='W-MON'),\n Timestamp('2018-10-15 00:00:00', freq='W-MON'),\n Timestamp('2018-10-22 00:00:00', freq='W-MON'),\n Timestamp('2018-10-29 00:00:00', freq='W-MON'),\n Timestamp('2018-11-05 00:00:00', freq='W-MON'),\n Timestamp('2018-11-12 00:00:00', freq='W-MON'),\n Timestamp('2018-11-19 00:00:00', freq='W-MON'),\n Timestamp('2018-11-26 00:00:00', freq='W-MON'),\n Timestamp('2018-12-03 00:00:00', freq='W-MON'),\n Timestamp('2018-12-10 00:00:00', freq='W-MON'),\n Timestamp('2018-12-17 00:00:00', freq='W-MON'),\n Timestamp('2018-12-24 00:00:00', freq='W-MON'),\n Timestamp('2018-12-31 00:00:00', freq='W-MON'),\n Timestamp('2019-01-07 00:00:00', freq='W-MON'),\n Timestamp('2019-01-14 00:00:00', freq='W-MON'),\n Timestamp('2019-01-21 00:00:00', freq='W-MON'),\n Timestamp('2019-01-28 00:00:00', freq='W-MON'),\n Timestamp('2019-02-04 00:00:00', freq='W-MON'),\n Timestamp('2019-02-11 00:00:00', freq='W-MON'),\n Timestamp('2019-02-18 00:00:00', freq='W-MON'),\n Timestamp('2019-02-25 00:00:00', freq='W-MON'),\n Timestamp('2019-03-04 00:00:00', freq='W-MON'),\n Timestamp('2019-03-11 00:00:00', freq='W-MON'),\n Timestamp('2019-03-18 00:00:00', freq='W-MON'),\n Timestamp('2019-03-25 00:00:00', freq='W-MON'),\n Timestamp('2019-04-01 00:00:00', freq='W-MON'),\n Timestamp('2019-04-08 00:00:00', freq='W-MON'),\n Timestamp('2019-04-15 00:00:00', freq='W-MON'),\n Timestamp('2019-04-22 00:00:00', freq='W-MON'),\n Timestamp('2019-04-29 00:00:00', freq='W-MON'),\n Timestamp('2019-05-06 00:00:00', freq='W-MON'),\n Timestamp('2019-05-13 00:00:00', freq='W-MON'),\n Timestamp('2019-05-20 00:00:00', freq='W-MON'),\n Timestamp('2019-05-27 00:00:00', freq='W-MON'),\n Timestamp('2019-06-03 00:00:00', freq='W-MON'),\n Timestamp('2019-06-10 00:00:00', freq='W-MON'),\n Timestamp('2019-06-17 00:00:00', freq='W-MON'),\n Timestamp('2019-06-24 00:00:00', freq='W-MON'),\n Timestamp('2019-07-01 00:00:00', freq='W-MON'),\n Timestamp('2019-07-08 00:00:00', freq='W-MON'),\n Timestamp('2019-07-15 00:00:00', freq='W-MON'),\n Timestamp('2019-07-22 00:00:00', freq='W-MON'),\n Timestamp('2019-07-29 00:00:00', freq='W-MON'),\n Timestamp('2019-08-05 00:00:00', freq='W-MON'),\n Timestamp('2019-08-12 00:00:00', freq='W-MON'),\n Timestamp('2019-08-19 00:00:00', freq='W-MON'),\n Timestamp('2019-08-26 00:00:00', freq='W-MON'),\n Timestamp('2019-09-02 00:00:00', freq='W-MON'),\n Timestamp('2019-09-09 00:00:00', freq='W-MON'),\n Timestamp('2019-09-16 00:00:00', freq='W-MON'),\n Timestamp('2019-09-23 00:00:00', freq='W-MON'),\n Timestamp('2019-09-30 00:00:00', freq='W-MON'),\n Timestamp('2019-10-07 00:00:00', freq='W-MON'),\n Timestamp('2019-10-14 00:00:00', freq='W-MON'),\n Timestamp('2019-10-21 00:00:00', freq='W-MON'),\n Timestamp('2019-10-28 00:00:00', freq='W-MON'),\n Timestamp('2019-11-04 00:00:00', freq='W-MON'),\n Timestamp('2019-11-11 00:00:00', freq='W-MON'),\n Timestamp('2019-11-18 00:00:00', freq='W-MON'),\n Timestamp('2019-11-25 00:00:00', freq='W-MON'),\n Timestamp('2019-12-02 00:00:00', freq='W-MON'),\n Timestamp('2019-12-09 00:00:00', freq='W-MON'),\n Timestamp('2019-12-16 00:00:00', freq='W-MON'),\n Timestamp('2019-12-23 00:00:00', freq='W-MON'),\n Timestamp('2019-12-30 00:00:00', freq='W-MON'),\n Timestamp('2020-01-06 00:00:00', freq='W-MON'),\n Timestamp('2020-01-13 00:00:00', freq='W-MON'),\n Timestamp('2020-01-20 00:00:00', freq='W-MON'),\n Timestamp('2020-01-27 00:00:00', freq='W-MON'),\n Timestamp('2020-02-03 00:00:00', freq='W-MON'),\n Timestamp('2020-02-10 00:00:00', freq='W-MON'),\n Timestamp('2020-02-17 00:00:00', freq='W-MON'),\n Timestamp('2020-02-24 00:00:00', freq='W-MON'),\n Timestamp('2020-03-02 00:00:00', freq='W-MON'),\n Timestamp('2020-03-09 00:00:00', freq='W-MON'),\n Timestamp('2020-03-16 00:00:00', freq='W-MON'),\n Timestamp('2020-03-23 00:00:00', freq='W-MON'),\n Timestamp('2020-03-30 00:00:00', freq='W-MON'),\n Timestamp('2020-04-06 00:00:00', freq='W-MON'),\n Timestamp('2020-04-13 00:00:00', freq='W-MON'),\n Timestamp('2020-04-20 00:00:00', freq='W-MON'),\n Timestamp('2020-04-27 00:00:00', freq='W-MON'),\n Timestamp('2020-05-04 00:00:00', freq='W-MON'),\n Timestamp('2020-05-11 00:00:00', freq='W-MON'),\n Timestamp('2020-05-18 00:00:00', freq='W-MON'),\n Timestamp('2020-05-25 00:00:00', freq='W-MON'),\n Timestamp('2020-06-01 00:00:00', freq='W-MON'),\n Timestamp('2020-06-08 00:00:00', freq='W-MON'),\n Timestamp('2020-06-15 00:00:00', freq='W-MON'),\n Timestamp('2020-06-22 00:00:00', freq='W-MON'),\n Timestamp('2020-06-29 00:00:00', freq='W-MON'),\n Timestamp('2020-07-06 00:00:00', freq='W-MON'),\n Timestamp('2020-07-13 00:00:00', freq='W-MON'),\n Timestamp('2020-07-20 00:00:00', freq='W-MON'),\n Timestamp('2020-07-27 00:00:00', freq='W-MON'),\n Timestamp('2020-08-03 00:00:00', freq='W-MON'),\n Timestamp('2020-08-10 00:00:00', freq='W-MON'),\n Timestamp('2020-08-17 00:00:00', freq='W-MON'),\n Timestamp('2020-08-24 00:00:00', freq='W-MON'),\n Timestamp('2020-08-31 00:00:00', freq='W-MON'),\n Timestamp('2020-09-07 00:00:00', freq='W-MON'),\n Timestamp('2020-09-14 00:00:00', freq='W-MON'),\n Timestamp('2020-09-21 00:00:00', freq='W-MON'),\n Timestamp('2020-09-28 00:00:00', freq='W-MON'),\n Timestamp('2020-10-05 00:00:00', freq='W-MON'),\n Timestamp('2020-10-12 00:00:00', freq='W-MON'),\n Timestamp('2020-10-19 00:00:00', freq='W-MON'),\n Timestamp('2020-10-26 00:00:00', freq='W-MON'),\n Timestamp('2020-11-02 00:00:00', freq='W-MON'),\n Timestamp('2020-11-09 00:00:00', freq='W-MON'),\n Timestamp('2020-11-16 00:00:00', freq='W-MON'),\n Timestamp('2020-11-23 00:00:00', freq='W-MON'),\n Timestamp('2020-11-30 00:00:00', freq='W-MON'),\n Timestamp('2020-12-07 00:00:00', freq='W-MON'),\n Timestamp('2020-12-14 00:00:00', freq='W-MON'),\n Timestamp('2020-12-21 00:00:00', freq='W-MON'),\n Timestamp('2020-12-28 00:00:00', freq='W-MON'),\n Timestamp('2021-01-04 00:00:00', freq='W-MON'),\n Timestamp('2021-01-11 00:00:00', freq='W-MON'),\n Timestamp('2021-01-18 00:00:00', freq='W-MON'),\n Timestamp('2021-01-25 00:00:00', freq='W-MON'),\n Timestamp('2021-02-01 00:00:00', freq='W-MON'),\n Timestamp('2021-02-08 00:00:00', freq='W-MON'),\n Timestamp('2021-02-15 00:00:00', freq='W-MON'),\n Timestamp('2021-02-22 00:00:00', freq='W-MON'),\n Timestamp('2021-03-01 00:00:00', freq='W-MON'),\n Timestamp('2021-03-08 00:00:00', freq='W-MON'),\n Timestamp('2021-03-15 00:00:00', freq='W-MON'),\n Timestamp('2021-03-22 00:00:00', freq='W-MON'),\n Timestamp('2021-03-29 00:00:00', freq='W-MON'),\n Timestamp('2021-04-05 00:00:00', freq='W-MON'),\n Timestamp('2021-04-12 00:00:00', freq='W-MON'),\n Timestamp('2021-04-19 00:00:00', freq='W-MON'),\n Timestamp('2021-04-26 00:00:00', freq='W-MON'),\n Timestamp('2021-05-03 00:00:00', freq='W-MON'),\n Timestamp('2021-05-10 00:00:00', freq='W-MON'),\n Timestamp('2021-05-17 00:00:00', freq='W-MON'),\n Timestamp('2021-05-24 00:00:00', freq='W-MON'),\n Timestamp('2021-05-31 00:00:00', freq='W-MON'),\n Timestamp('2021-06-07 00:00:00', freq='W-MON'),\n Timestamp('2021-06-14 00:00:00', freq='W-MON'),\n Timestamp('2021-06-21 00:00:00', freq='W-MON'),\n Timestamp('2021-06-28 00:00:00', freq='W-MON'),\n Timestamp('2021-07-05 00:00:00', freq='W-MON'),\n Timestamp('2021-07-12 00:00:00', freq='W-MON'),\n Timestamp('2021-07-19 00:00:00', freq='W-MON'),\n Timestamp('2021-07-26 00:00:00', freq='W-MON'),\n Timestamp('2021-08-02 00:00:00', freq='W-MON'),\n Timestamp('2021-08-09 00:00:00', freq='W-MON'),\n Timestamp('2021-08-16 00:00:00', freq='W-MON'),\n Timestamp('2021-08-23 00:00:00', freq='W-MON'),\n Timestamp('2021-08-30 00:00:00', freq='W-MON'),\n Timestamp('2021-09-06 00:00:00', freq='W-MON'),\n Timestamp('2021-09-13 00:00:00', freq='W-MON'),\n Timestamp('2021-09-20 00:00:00', freq='W-MON'),\n Timestamp('2021-09-27 00:00:00', freq='W-MON'),\n Timestamp('2021-10-04 00:00:00', freq='W-MON'),\n Timestamp('2021-10-11 00:00:00', freq='W-MON'),\n Timestamp('2021-10-18 00:00:00', freq='W-MON'),\n Timestamp('2021-10-25 00:00:00', freq='W-MON'),\n Timestamp('2021-11-01 00:00:00', freq='W-MON'),\n Timestamp('2021-11-08 00:00:00', freq='W-MON'),\n Timestamp('2021-11-15 00:00:00', freq='W-MON'),\n Timestamp('2021-11-22 00:00:00', freq='W-MON'),\n Timestamp('2021-11-29 00:00:00', freq='W-MON'),\n Timestamp('2021-12-06 00:00:00', freq='W-MON'),\n Timestamp('2021-12-13 00:00:00', freq='W-MON'),\n Timestamp('2021-12-20 00:00:00', freq='W-MON'),\n Timestamp('2021-12-27 00:00:00', freq='W-MON'),\n Timestamp('2022-01-03 00:00:00', freq='W-MON'),\n Timestamp('2022-01-10 00:00:00', freq='W-MON'),\n Timestamp('2022-01-17 00:00:00', freq='W-MON'),\n Timestamp('2022-01-24 00:00:00', freq='W-MON'),\n Timestamp('2022-01-31 00:00:00', freq='W-MON'),\n Timestamp('2022-02-07 00:00:00', freq='W-MON'),\n Timestamp('2022-02-14 00:00:00', freq='W-MON'),\n Timestamp('2022-02-21 00:00:00', freq='W-MON'),\n Timestamp('2022-02-28 00:00:00', freq='W-MON'),\n Timestamp('2022-03-07 00:00:00', freq='W-MON'),\n Timestamp('2022-03-14 00:00:00', freq='W-MON'),\n Timestamp('2022-03-21 00:00:00', freq='W-MON'),\n Timestamp('2022-03-28 00:00:00', freq='W-MON'),\n Timestamp('2022-04-04 00:00:00', freq='W-MON'),\n Timestamp('2022-04-11 00:00:00', freq='W-MON'),\n Timestamp('2022-04-18 00:00:00', freq='W-MON'),\n Timestamp('2022-04-25 00:00:00', freq='W-MON'),\n Timestamp('2022-05-02 00:00:00', freq='W-MON'),\n Timestamp('2022-05-09 00:00:00', freq='W-MON'),\n Timestamp('2022-05-16 00:00:00', freq='W-MON'),\n Timestamp('2022-05-23 00:00:00', freq='W-MON'),\n Timestamp('2022-05-30 00:00:00', freq='W-MON'),\n Timestamp('2022-06-06 00:00:00', freq='W-MON'),\n Timestamp('2022-06-13 00:00:00', freq='W-MON'),\n Timestamp('2022-06-20 00:00:00', freq='W-MON'),\n Timestamp('2022-06-27 00:00:00', freq='W-MON'),\n Timestamp('2022-07-04 00:00:00', freq='W-MON'),\n Timestamp('2022-07-11 00:00:00', freq='W-MON'),\n Timestamp('2022-07-18 00:00:00', freq='W-MON'),\n Timestamp('2022-07-25 00:00:00', freq='W-MON'),\n Timestamp('2022-08-01 00:00:00', freq='W-MON'),\n Timestamp('2022-08-08 00:00:00', freq='W-MON'),\n Timestamp('2022-08-15 00:00:00', freq='W-MON')]"
     },
     "execution_count": 15,
     "metadata": {},
     "output_type": "execute_result"
    }
   ],
   "source": [
    "mondays"
   ],
   "metadata": {
    "collapsed": false,
    "pycharm": {
     "name": "#%%\n"
    }
   }
  },
  {
   "cell_type": "code",
   "execution_count": 5,
   "outputs": [
    {
     "data": {
      "text/plain": "Timestamp('2022-08-21 19:12:45.356219')"
     },
     "execution_count": 5,
     "metadata": {},
     "output_type": "execute_result"
    }
   ],
   "source": [
    "pd.to_datetime(pd.Timestamp.now())"
   ],
   "metadata": {
    "collapsed": false,
    "pycharm": {
     "name": "#%%\n"
    }
   }
  },
  {
   "cell_type": "code",
   "execution_count": null,
   "outputs": [],
   "source": [],
   "metadata": {
    "collapsed": false,
    "pycharm": {
     "name": "#%%\n"
    }
   }
  }
 ],
 "metadata": {
  "kernelspec": {
   "display_name": "Python 3",
   "language": "python",
   "name": "python3"
  },
  "language_info": {
   "codemirror_mode": {
    "name": "ipython",
    "version": 2
   },
   "file_extension": ".py",
   "mimetype": "text/x-python",
   "name": "python",
   "nbconvert_exporter": "python",
   "pygments_lexer": "ipython2",
   "version": "2.7.6"
  }
 },
 "nbformat": 4,
 "nbformat_minor": 0
}